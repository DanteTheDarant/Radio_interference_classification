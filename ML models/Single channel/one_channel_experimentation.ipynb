{
 "cells": [
  {
   "cell_type": "code",
   "execution_count": 1,
   "metadata": {},
   "outputs": [
    {
     "name": "stderr",
     "output_type": "stream",
     "text": [
      "2023-05-18 15:43:46.176556: I tensorflow/core/util/port.cc:110] oneDNN custom operations are on. You may see slightly different numerical results due to floating-point round-off errors from different computation orders. To turn them off, set the environment variable `TF_ENABLE_ONEDNN_OPTS=0`.\n",
      "2023-05-18 15:43:46.203934: I tensorflow/core/platform/cpu_feature_guard.cc:182] This TensorFlow binary is optimized to use available CPU instructions in performance-critical operations.\n",
      "To enable the following instructions: AVX2 AVX_VNNI FMA, in other operations, rebuild TensorFlow with the appropriate compiler flags.\n"
     ]
    }
   ],
   "source": [
    "import tensorflow as tf\n",
    "from keras.models import Model\n",
    "from keras.optimizers import Adam\n",
    "from keras import layers, callbacks\n",
    "\n",
    "from keras.utils import to_categorical\n",
    "\n",
    "import pandas as pd\n",
    "import matplotlib.pyplot as plt\n",
    "import seaborn as sns \n",
    "import numpy as np\n",
    "\n",
    "from tensorflow.python.keras.utils.vis_utils import plot_model\n",
    "import pydot\n",
    "\n",
    "from scipy.stats import norm\n",
    "from scipy import stats\n",
    "import os\n",
    "\n",
    "from sklearn.model_selection import train_test_split\n",
    "from sklearn import preprocessing\n",
    "from sklearn.metrics import classification_report, ConfusionMatrixDisplay\n",
    "import pickle\n",
    "import dataframe_image as dfi"
   ]
  },
  {
   "cell_type": "markdown",
   "metadata": {},
   "source": [
    "#### Save parameters"
   ]
  },
  {
   "cell_type": "code",
   "execution_count": 2,
   "metadata": {},
   "outputs": [],
   "source": [
    "time_data_amount = 20\n",
    "nr_classes = 3\n",
    "sf = 2\n",
    "\n",
    "using_weights = False"
   ]
  },
  {
   "cell_type": "code",
   "execution_count": 3,
   "metadata": {},
   "outputs": [],
   "source": [
    "name = 'one_channel_test' #name of model - should be descriptive\n",
    "save_folder = 'ref_model_9_conv_' + str(sf) +'filters_' + str(time_data_amount) #hyperparameter description her\n",
    "if using_weights == True:\n",
    "    save_folder = save_folder + '_W'\n",
    "    name = name + '_weighted'"
   ]
  },
  {
   "cell_type": "markdown",
   "metadata": {},
   "source": [
    "### Gotta load in some data"
   ]
  },
  {
   "cell_type": "code",
   "execution_count": 4,
   "metadata": {},
   "outputs": [],
   "source": [
    "datapath = '../../../All generated data/'\n",
    "labelpath = '../../../All generated labels/'\n",
    "data_list = os.listdir(datapath)\n",
    "#print(data_list)\n",
    "\n",
    "#all_data = [] #if we want to have data and labels in one list\n",
    "all_datapoints = []\n",
    "all_labels = []\n",
    "\n",
    "total_channels = 79\n",
    "total_scans_pr_sample = 20\n",
    "classes = 3\n",
    "\n",
    "\n",
    "for csv_file in data_list:\n",
    "    data_file = datapath + csv_file\n",
    "    current_data_file = pd.read_csv(data_file,header=None)\n",
    "\n",
    "    label_file = labelpath + csv_file\n",
    "    label_file = label_file.replace('.csv', '_labels.csv')\n",
    "    current_label_file = pd.read_csv(label_file,header=None)\n",
    "\n",
    "    for data_iter in range(len(current_data_file.index)):\n",
    "        #Pulling out the data from a row and putting it in the list\n",
    "        current_data_point = np.array(current_data_file.iloc[data_iter])\n",
    "        current_data_point = current_data_point.reshape(total_scans_pr_sample,total_channels)\n",
    "        all_datapoints.append(current_data_point)\n",
    "        \n",
    "        #adding the label to the datamatrix as the last row\n",
    "        label_row = np.array(current_label_file.iloc[data_iter])\n",
    "        label_row = label_row.reshape(1,total_channels)\n",
    "        all_labels.append(label_row)\n",
    "        \n",
    "        #all_data.append(np.vstack([current_data_point, label_row])) #if we want to have data and labels in one list\n"
   ]
  },
  {
   "cell_type": "code",
   "execution_count": 5,
   "metadata": {},
   "outputs": [
    {
     "name": "stdout",
     "output_type": "stream",
     "text": [
      "(1, 79)\n",
      "9975\n",
      "9975\n"
     ]
    }
   ],
   "source": [
    "print(all_labels[1].shape)\n",
    "print(len(all_labels))\n",
    "print(len(all_datapoints))"
   ]
  },
  {
   "cell_type": "markdown",
   "metadata": {},
   "source": [
    "#### Pick out one channel for each sample\n",
    "For now it takes the same channel for all samples"
   ]
  },
  {
   "cell_type": "code",
   "execution_count": 6,
   "metadata": {},
   "outputs": [
    {
     "name": "stdout",
     "output_type": "stream",
     "text": [
      "(20,)\n",
      "778050\n",
      "(1,)\n",
      "778050\n"
     ]
    }
   ],
   "source": [
    "chosen_channels = list(range(1,79))\n",
    "\n",
    "complete_data = []\n",
    "complete_labels = []\n",
    "\n",
    "for iter in range(len(all_datapoints)):\n",
    "    for channel in chosen_channels:\n",
    "        complete_data.append(all_datapoints[iter][0:time_data_amount,channel])\n",
    "        complete_labels.append(all_labels[iter][:,channel])\n",
    "    \n",
    "\n",
    "#quick check to make sure it works\n",
    "print(complete_data[1].shape)\n",
    "print(len(complete_data))\n",
    "print(complete_labels[1].shape)\n",
    "print(len(complete_labels))"
   ]
  },
  {
   "cell_type": "markdown",
   "metadata": {},
   "source": [
    "### Splits data in train and test"
   ]
  },
  {
   "cell_type": "code",
   "execution_count": 7,
   "metadata": {},
   "outputs": [
    {
     "name": "stdout",
     "output_type": "stream",
     "text": [
      "(155610, 3)\n"
     ]
    }
   ],
   "source": [
    "data_train, data_test, labels_train, labels_test = train_test_split(complete_data, complete_labels, train_size=0.8, random_state=112)\n",
    "\n",
    "# One hot encoding\n",
    "labels_test = to_categorical(labels_test)\n",
    "labels_train = to_categorical(labels_train)\n",
    "\n",
    "data_train = np.array(data_train)\n",
    "data_test = np.array(data_test)\n",
    "labels_train = np.array(labels_train)\n",
    "labels_test = np.array(labels_test)\n",
    "print(labels_test.shape)"
   ]
  },
  {
   "cell_type": "markdown",
   "metadata": {},
   "source": [
    "### Normalise data a bit"
   ]
  },
  {
   "cell_type": "code",
   "execution_count": 8,
   "metadata": {},
   "outputs": [],
   "source": [
    "# Make a scaler from training data\n",
    "scaler = preprocessing.StandardScaler().fit(data_train)\n",
    "\n",
    "# scale everything using that scaler\n",
    "data_train = scaler.transform(data_train)\n",
    "data_test = scaler.transform(data_test)"
   ]
  },
  {
   "cell_type": "markdown",
   "metadata": {},
   "source": [
    "### Stuff for class weights"
   ]
  },
  {
   "cell_type": "code",
   "execution_count": 9,
   "metadata": {},
   "outputs": [],
   "source": [
    "def generate_class_weights(class_series, multi_class=True, one_hot_encoded=False):\n",
    "  \"\"\"\n",
    "  Method to generate class weights given a set of multi-class or multi-label labels, both one-hot-encoded or not.\n",
    "  Some examples of different formats of class_series and their outputs are:\n",
    "    - generate_class_weights(['mango', 'lemon', 'banana', 'mango'], multi_class=True, one_hot_encoded=False)\n",
    "    {'banana': 1.3333333333333333, 'lemon': 1.3333333333333333, 'mango': 0.6666666666666666}\n",
    "    - generate_class_weights([[1, 0, 0], [0, 1, 0], [0, 0, 1], [1, 0, 0]], multi_class=True, one_hot_encoded=True)\n",
    "    {0: 0.6666666666666666, 1: 1.3333333333333333, 2: 1.3333333333333333}\n",
    "    - generate_class_weights([['mango', 'lemon'], ['mango'], ['lemon', 'banana'], ['lemon']], multi_class=False, one_hot_encoded=False)\n",
    "    {'banana': 1.3333333333333333, 'lemon': 0.4444444444444444, 'mango': 0.6666666666666666}\n",
    "    - generate_class_weights([[0, 1, 1], [0, 0, 1], [1, 1, 0], [0, 1, 0]], multi_class=False, one_hot_encoded=True)\n",
    "    {0: 1.3333333333333333, 1: 0.4444444444444444, 2: 0.6666666666666666}\n",
    "  The output is a dictionary in the format { class_label: class_weight }. In case the input is one hot encoded, the class_label would be index\n",
    "  of appareance of the label when the dataset was processed. \n",
    "  In multi_class this is np.unique(class_series) and in multi-label np.unique(np.concatenate(class_series)).\n",
    "  Author: Angel Igareta (angel@igareta.com)\n",
    "  \"\"\"\n",
    "  if multi_class:\n",
    "    # If class is one hot encoded, transform to categorical labels to use compute_class_weight   \n",
    "    if one_hot_encoded:\n",
    "      class_series = np.argmax(class_series, axis=1)\n",
    "  \n",
    "    # Compute class weights with sklearn method\n",
    "    class_labels = np.unique(class_series)\n",
    "    class_weights = compute_class_weight(class_weight='balanced', classes=class_labels, y=class_series)\n",
    "    return dict(zip(class_labels, class_weights))\n",
    "  else:\n",
    "    # It is neccessary that the multi-label values are one-hot encoded\n",
    "    mlb = None\n",
    "    if not one_hot_encoded:\n",
    "      mlb = MultiLabelBinarizer()\n",
    "      class_series = mlb.fit_transform(class_series)\n",
    "\n",
    "    n_samples = len(class_series)\n",
    "    n_classes = len(class_series[0])\n",
    "\n",
    "    # Count each class frequency\n",
    "    class_count = [0] * n_classes\n",
    "    for classes in class_series:\n",
    "        for index in range(n_classes):\n",
    "            if classes[index] != 0:\n",
    "                class_count[index] += 1\n",
    "    \n",
    "    # Compute class weights using balanced method\n",
    "    class_weights = [n_samples / (n_classes * freq) if freq > 0 else 1 for freq in class_count]\n",
    "    class_labels = range(len(class_weights)) if mlb is None else mlb.classes_\n",
    "    return dict(zip(class_labels, class_weights))"
   ]
  },
  {
   "cell_type": "code",
   "execution_count": 10,
   "metadata": {},
   "outputs": [
    {
     "data": {
      "text/plain": [
       "{0: 0.25, 1: 0.36, 2: 0.39}"
      ]
     },
     "execution_count": 10,
     "metadata": {},
     "output_type": "execute_result"
    }
   ],
   "source": [
    "class_weights = [0.25, 0.36, 0.39]\n",
    "#class_weights = [0.25, 0.36, 0.59] #2\n",
    "#class_weights = [0.33, 1, 1] #3\n",
    "\n",
    "\n",
    "\n",
    "class_weights = np.array([class_weights[i] for i in range(len(class_weights))])\n",
    "class_weights = dict(enumerate(class_weights, 0))\n",
    "\n",
    "class_weights\n"
   ]
  },
  {
   "cell_type": "markdown",
   "metadata": {},
   "source": [
    "## Building a model"
   ]
  },
  {
   "cell_type": "code",
   "execution_count": 11,
   "metadata": {},
   "outputs": [
    {
     "name": "stdout",
     "output_type": "stream",
     "text": [
      "Model: \"model\"\n",
      "_________________________________________________________________\n",
      " Layer (type)                Output Shape              Param #   \n",
      "=================================================================\n",
      " Input (InputLayer)          [(None, 20, 1)]           0         \n",
      "                                                                 \n",
      " conv1d (Conv1D)             (None, 20, 2)             8         \n",
      "                                                                 \n",
      " conv1d_1 (Conv1D)           (None, 20, 2)             14        \n",
      "                                                                 \n",
      " conv1d_2 (Conv1D)           (None, 20, 2)             14        \n",
      "                                                                 \n",
      " max_pooling1d (MaxPooling1D  (None, 10, 2)            0         \n",
      " )                                                               \n",
      "                                                                 \n",
      " conv1d_3 (Conv1D)           (None, 10, 4)             28        \n",
      "                                                                 \n",
      " conv1d_4 (Conv1D)           (None, 10, 4)             52        \n",
      "                                                                 \n",
      " conv1d_5 (Conv1D)           (None, 10, 4)             52        \n",
      "                                                                 \n",
      " max_pooling1d_1 (MaxPooling  (None, 5, 4)             0         \n",
      " 1D)                                                             \n",
      "                                                                 \n",
      " conv1d_6 (Conv1D)           (None, 5, 8)              104       \n",
      "                                                                 \n",
      " conv1d_7 (Conv1D)           (None, 5, 8)              200       \n",
      "                                                                 \n",
      " conv1d_8 (Conv1D)           (None, 5, 8)              200       \n",
      "                                                                 \n",
      " flatten (Flatten)           (None, 40)                0         \n",
      "                                                                 \n",
      " dropout (Dropout)           (None, 40)                0         \n",
      "                                                                 \n",
      " dense (Dense)               (None, 8)                 328       \n",
      "                                                                 \n",
      " dropout_1 (Dropout)         (None, 8)                 0         \n",
      "                                                                 \n",
      " dense_1 (Dense)             (None, 4)                 36        \n",
      "                                                                 \n",
      " p (Dense)                   (None, 3)                 15        \n",
      "                                                                 \n",
      "=================================================================\n",
      "Total params: 1,051\n",
      "Trainable params: 1,051\n",
      "Non-trainable params: 0\n",
      "_________________________________________________________________\n"
     ]
    },
    {
     "name": "stderr",
     "output_type": "stream",
     "text": [
      "2023-05-18 15:43:58.450119: I tensorflow/compiler/xla/stream_executor/cuda/cuda_gpu_executor.cc:996] successful NUMA node read from SysFS had negative value (-1), but there must be at least one NUMA node, so returning NUMA node zero. See more at https://github.com/torvalds/linux/blob/v6.0/Documentation/ABI/testing/sysfs-bus-pci#L344-L355\n",
      "2023-05-18 15:43:58.454587: I tensorflow/compiler/xla/stream_executor/cuda/cuda_gpu_executor.cc:996] successful NUMA node read from SysFS had negative value (-1), but there must be at least one NUMA node, so returning NUMA node zero. See more at https://github.com/torvalds/linux/blob/v6.0/Documentation/ABI/testing/sysfs-bus-pci#L344-L355\n",
      "2023-05-18 15:43:58.454763: I tensorflow/compiler/xla/stream_executor/cuda/cuda_gpu_executor.cc:996] successful NUMA node read from SysFS had negative value (-1), but there must be at least one NUMA node, so returning NUMA node zero. See more at https://github.com/torvalds/linux/blob/v6.0/Documentation/ABI/testing/sysfs-bus-pci#L344-L355\n",
      "2023-05-18 15:43:58.455839: I tensorflow/compiler/xla/stream_executor/cuda/cuda_gpu_executor.cc:996] successful NUMA node read from SysFS had negative value (-1), but there must be at least one NUMA node, so returning NUMA node zero. See more at https://github.com/torvalds/linux/blob/v6.0/Documentation/ABI/testing/sysfs-bus-pci#L344-L355\n",
      "2023-05-18 15:43:58.456007: I tensorflow/compiler/xla/stream_executor/cuda/cuda_gpu_executor.cc:996] successful NUMA node read from SysFS had negative value (-1), but there must be at least one NUMA node, so returning NUMA node zero. See more at https://github.com/torvalds/linux/blob/v6.0/Documentation/ABI/testing/sysfs-bus-pci#L344-L355\n",
      "2023-05-18 15:43:58.456134: I tensorflow/compiler/xla/stream_executor/cuda/cuda_gpu_executor.cc:996] successful NUMA node read from SysFS had negative value (-1), but there must be at least one NUMA node, so returning NUMA node zero. See more at https://github.com/torvalds/linux/blob/v6.0/Documentation/ABI/testing/sysfs-bus-pci#L344-L355\n",
      "2023-05-18 15:43:58.867445: I tensorflow/compiler/xla/stream_executor/cuda/cuda_gpu_executor.cc:996] successful NUMA node read from SysFS had negative value (-1), but there must be at least one NUMA node, so returning NUMA node zero. See more at https://github.com/torvalds/linux/blob/v6.0/Documentation/ABI/testing/sysfs-bus-pci#L344-L355\n",
      "2023-05-18 15:43:58.867572: I tensorflow/compiler/xla/stream_executor/cuda/cuda_gpu_executor.cc:996] successful NUMA node read from SysFS had negative value (-1), but there must be at least one NUMA node, so returning NUMA node zero. See more at https://github.com/torvalds/linux/blob/v6.0/Documentation/ABI/testing/sysfs-bus-pci#L344-L355\n",
      "2023-05-18 15:43:58.867638: I tensorflow/compiler/xla/stream_executor/cuda/cuda_gpu_executor.cc:996] successful NUMA node read from SysFS had negative value (-1), but there must be at least one NUMA node, so returning NUMA node zero. See more at https://github.com/torvalds/linux/blob/v6.0/Documentation/ABI/testing/sysfs-bus-pci#L344-L355\n",
      "2023-05-18 15:43:58.867702: I tensorflow/core/common_runtime/gpu/gpu_device.cc:1635] Created device /job:localhost/replica:0/task:0/device:GPU:0 with 3506 MB memory:  -> device: 0, name: NVIDIA GeForce RTX 3060 Laptop GPU, pci bus id: 0000:01:00.0, compute capability: 8.6\n"
     ]
    }
   ],
   "source": [
    "signal_size = time_data_amount\n",
    "\n",
    "y = layers.Input(shape=(signal_size,1), dtype='float32', name='Input')\n",
    "x = layers.Conv1D(sf, 3, padding='same', activation='relu', use_bias=True)(y)\n",
    "x = layers.Conv1D(sf, 3, padding='same', activation='relu')(x)\n",
    "x = layers.Conv1D(sf, 3, padding='same', activation='relu')(x)\n",
    "x = layers.MaxPool1D(pool_size=2,strides=2)(x)\n",
    "x = layers.Conv1D(sf*2, 3, padding='same', activation='relu')(x)\n",
    "x = layers.Conv1D(sf*2, 3, padding='same', activation='relu')(x)\n",
    "x = layers.Conv1D(sf*2, 3, padding='same', activation='relu')(x)\n",
    "x = layers.MaxPool1D(pool_size=2,strides=2)(x)\n",
    "x = layers.Conv1D(sf*4, 3, padding='same', activation='relu')(x)\n",
    "x = layers.Conv1D(sf*4, 3, padding='same', activation='relu')(x)\n",
    "x = layers.Conv1D(sf*4, 3, padding='same', activation='relu')(x)\n",
    "\n",
    "\n",
    "x = layers.Flatten()(x)\n",
    "x = layers.Dropout(rate=0.3)(x)\n",
    "x = layers.Dense(sf*4, activation='relu')(x)\n",
    "x = layers.Dropout(rate=0.3)(x)\n",
    "x = layers.Dense(sf*2,activation='relu')(x)\n",
    "p = layers.Dense(classes, activation='softmax', name='p')(x)\n",
    "\n",
    "model = Model(inputs=[y], outputs=[p])\n",
    "model.summary()"
   ]
  },
  {
   "cell_type": "code",
   "execution_count": 12,
   "metadata": {},
   "outputs": [],
   "source": [
    "# ------------- model compilation --------------\n",
    "ourAdam = Adam()\n",
    "model.compile(optimizer=ourAdam, loss='categorical_crossentropy', metrics=['accuracy'])"
   ]
  },
  {
   "cell_type": "code",
   "execution_count": 13,
   "metadata": {
    "scrolled": true
   },
   "outputs": [
    {
     "name": "stdout",
     "output_type": "stream",
     "text": [
      "Epoch 1/3000\n"
     ]
    },
    {
     "name": "stderr",
     "output_type": "stream",
     "text": [
      "2023-05-18 15:44:00.367763: I tensorflow/compiler/xla/stream_executor/cuda/cuda_dnn.cc:424] Loaded cuDNN version 8600\n",
      "2023-05-18 15:44:01.039537: I tensorflow/compiler/xla/stream_executor/cuda/cuda_blas.cc:637] TensorFloat-32 will be used for the matrix multiplication. This will only be logged once.\n"
     ]
    },
    {
     "name": "stdout",
     "output_type": "stream",
     "text": [
      "57/57 [==============================] - 4s 28ms/step - loss: 1.0757 - accuracy: 0.6564 - val_loss: 1.0345 - val_accuracy: 0.7213\n",
      "Epoch 2/3000\n",
      "57/57 [==============================] - 0s 7ms/step - loss: 1.0139 - accuracy: 0.7144 - val_loss: 0.9834 - val_accuracy: 0.7223\n",
      "Epoch 3/3000\n",
      "57/57 [==============================] - 0s 7ms/step - loss: 0.9674 - accuracy: 0.7172 - val_loss: 0.9365 - val_accuracy: 0.7243\n",
      "Epoch 4/3000\n",
      "57/57 [==============================] - 0s 7ms/step - loss: 0.9259 - accuracy: 0.7200 - val_loss: 0.8980 - val_accuracy: 0.7282\n",
      "Epoch 5/3000\n",
      "57/57 [==============================] - 0s 7ms/step - loss: 0.8902 - accuracy: 0.7241 - val_loss: 0.8641 - val_accuracy: 0.7316\n",
      "Epoch 6/3000\n",
      "57/57 [==============================] - 0s 7ms/step - loss: 0.8541 - accuracy: 0.7313 - val_loss: 0.8259 - val_accuracy: 0.7409\n",
      "Epoch 7/3000\n",
      "57/57 [==============================] - 0s 7ms/step - loss: 0.8116 - accuracy: 0.7436 - val_loss: 0.7871 - val_accuracy: 0.7512\n",
      "Epoch 8/3000\n",
      "57/57 [==============================] - 0s 7ms/step - loss: 0.7827 - accuracy: 0.7482 - val_loss: 0.7635 - val_accuracy: 0.7538\n",
      "Epoch 9/3000\n",
      "57/57 [==============================] - 0s 7ms/step - loss: 0.7609 - accuracy: 0.7508 - val_loss: 0.7423 - val_accuracy: 0.7568\n",
      "Epoch 10/3000\n",
      "57/57 [==============================] - 0s 7ms/step - loss: 0.7422 - accuracy: 0.7525 - val_loss: 0.7259 - val_accuracy: 0.7575\n",
      "Epoch 11/3000\n",
      "57/57 [==============================] - 0s 7ms/step - loss: 0.7266 - accuracy: 0.7530 - val_loss: 0.7090 - val_accuracy: 0.7598\n",
      "Epoch 12/3000\n",
      "57/57 [==============================] - 0s 6ms/step - loss: 0.7116 - accuracy: 0.7546 - val_loss: 0.6932 - val_accuracy: 0.7614\n",
      "Epoch 13/3000\n",
      "57/57 [==============================] - 0s 8ms/step - loss: 0.6990 - accuracy: 0.7557 - val_loss: 0.6802 - val_accuracy: 0.7625\n",
      "Epoch 14/3000\n",
      "57/57 [==============================] - 0s 8ms/step - loss: 0.6864 - accuracy: 0.7576 - val_loss: 0.6685 - val_accuracy: 0.7655\n",
      "Epoch 15/3000\n",
      "57/57 [==============================] - 0s 8ms/step - loss: 0.6767 - accuracy: 0.7585 - val_loss: 0.6581 - val_accuracy: 0.7672\n",
      "Epoch 16/3000\n",
      "57/57 [==============================] - 0s 8ms/step - loss: 0.6681 - accuracy: 0.7590 - val_loss: 0.6503 - val_accuracy: 0.7679\n",
      "Epoch 17/3000\n",
      "57/57 [==============================] - 0s 8ms/step - loss: 0.6597 - accuracy: 0.7605 - val_loss: 0.6414 - val_accuracy: 0.7692\n",
      "Epoch 18/3000\n",
      "57/57 [==============================] - 0s 8ms/step - loss: 0.6531 - accuracy: 0.7606 - val_loss: 0.6394 - val_accuracy: 0.7683\n",
      "Epoch 19/3000\n",
      "57/57 [==============================] - 0s 7ms/step - loss: 0.6464 - accuracy: 0.7612 - val_loss: 0.6280 - val_accuracy: 0.7709\n",
      "Epoch 20/3000\n",
      "57/57 [==============================] - 0s 8ms/step - loss: 0.6403 - accuracy: 0.7620 - val_loss: 0.6236 - val_accuracy: 0.7706\n",
      "Epoch 21/3000\n",
      "57/57 [==============================] - 0s 8ms/step - loss: 0.6345 - accuracy: 0.7625 - val_loss: 0.6171 - val_accuracy: 0.7722\n",
      "Epoch 22/3000\n",
      "57/57 [==============================] - 0s 8ms/step - loss: 0.6293 - accuracy: 0.7632 - val_loss: 0.6134 - val_accuracy: 0.7717\n",
      "Epoch 23/3000\n",
      "57/57 [==============================] - 0s 8ms/step - loss: 0.6254 - accuracy: 0.7636 - val_loss: 0.6086 - val_accuracy: 0.7732\n",
      "Epoch 24/3000\n",
      "57/57 [==============================] - 0s 8ms/step - loss: 0.6202 - accuracy: 0.7647 - val_loss: 0.6050 - val_accuracy: 0.7738\n",
      "Epoch 25/3000\n",
      "57/57 [==============================] - 0s 7ms/step - loss: 0.6160 - accuracy: 0.7663 - val_loss: 0.6027 - val_accuracy: 0.7726\n",
      "Epoch 26/3000\n",
      "57/57 [==============================] - 0s 8ms/step - loss: 0.6119 - accuracy: 0.7669 - val_loss: 0.6051 - val_accuracy: 0.7693\n",
      "Epoch 27/3000\n",
      "57/57 [==============================] - 0s 9ms/step - loss: 0.6084 - accuracy: 0.7676 - val_loss: 0.5982 - val_accuracy: 0.7728\n",
      "Epoch 28/3000\n",
      "57/57 [==============================] - 0s 7ms/step - loss: 0.6058 - accuracy: 0.7684 - val_loss: 0.5930 - val_accuracy: 0.7748\n",
      "Epoch 29/3000\n",
      "57/57 [==============================] - 0s 8ms/step - loss: 0.6021 - accuracy: 0.7700 - val_loss: 0.5904 - val_accuracy: 0.7754\n",
      "Epoch 30/3000\n",
      "57/57 [==============================] - 0s 8ms/step - loss: 0.5991 - accuracy: 0.7706 - val_loss: 0.5894 - val_accuracy: 0.7750\n",
      "Epoch 31/3000\n",
      "57/57 [==============================] - 0s 8ms/step - loss: 0.5967 - accuracy: 0.7709 - val_loss: 0.5890 - val_accuracy: 0.7741\n",
      "Epoch 32/3000\n",
      "57/57 [==============================] - 0s 8ms/step - loss: 0.5936 - accuracy: 0.7718 - val_loss: 0.5904 - val_accuracy: 0.7723\n",
      "Epoch 33/3000\n",
      "57/57 [==============================] - 0s 7ms/step - loss: 0.5919 - accuracy: 0.7721 - val_loss: 0.5873 - val_accuracy: 0.7736\n",
      "Epoch 34/3000\n",
      "57/57 [==============================] - 0s 8ms/step - loss: 0.5897 - accuracy: 0.7726 - val_loss: 0.5843 - val_accuracy: 0.7724\n",
      "Epoch 35/3000\n",
      "57/57 [==============================] - 0s 8ms/step - loss: 0.5878 - accuracy: 0.7728 - val_loss: 0.5891 - val_accuracy: 0.7688\n",
      "Epoch 36/3000\n",
      "57/57 [==============================] - 0s 8ms/step - loss: 0.5858 - accuracy: 0.7734 - val_loss: 0.5748 - val_accuracy: 0.7791\n",
      "Epoch 37/3000\n",
      "57/57 [==============================] - 0s 8ms/step - loss: 0.5848 - accuracy: 0.7737 - val_loss: 0.5818 - val_accuracy: 0.7731\n",
      "Epoch 38/3000\n",
      "57/57 [==============================] - 0s 8ms/step - loss: 0.5821 - accuracy: 0.7744 - val_loss: 0.5758 - val_accuracy: 0.7759\n",
      "Epoch 39/3000\n",
      "57/57 [==============================] - 0s 8ms/step - loss: 0.5807 - accuracy: 0.7748 - val_loss: 0.5756 - val_accuracy: 0.7734\n",
      "Epoch 40/3000\n",
      "57/57 [==============================] - 0s 7ms/step - loss: 0.5809 - accuracy: 0.7747 - val_loss: 0.5762 - val_accuracy: 0.7752\n",
      "Epoch 41/3000\n",
      "57/57 [==============================] - 0s 8ms/step - loss: 0.5782 - accuracy: 0.7757 - val_loss: 0.5770 - val_accuracy: 0.7745\n",
      "Epoch 42/3000\n",
      "57/57 [==============================] - 0s 8ms/step - loss: 0.5766 - accuracy: 0.7760 - val_loss: 0.5730 - val_accuracy: 0.7744\n",
      "Epoch 43/3000\n",
      "57/57 [==============================] - 0s 8ms/step - loss: 0.5753 - accuracy: 0.7770 - val_loss: 0.5693 - val_accuracy: 0.7766\n",
      "Epoch 44/3000\n",
      "57/57 [==============================] - 0s 8ms/step - loss: 0.5746 - accuracy: 0.7765 - val_loss: 0.5759 - val_accuracy: 0.7736\n",
      "Epoch 45/3000\n",
      "57/57 [==============================] - 0s 8ms/step - loss: 0.5728 - accuracy: 0.7772 - val_loss: 0.5749 - val_accuracy: 0.7732\n",
      "Epoch 46/3000\n",
      "57/57 [==============================] - 0s 7ms/step - loss: 0.5729 - accuracy: 0.7776 - val_loss: 0.5681 - val_accuracy: 0.7770\n",
      "Epoch 47/3000\n",
      "57/57 [==============================] - 0s 8ms/step - loss: 0.5702 - accuracy: 0.7787 - val_loss: 0.5627 - val_accuracy: 0.7811\n",
      "Epoch 48/3000\n",
      "57/57 [==============================] - 0s 7ms/step - loss: 0.5672 - accuracy: 0.7802 - val_loss: 0.5602 - val_accuracy: 0.7783\n",
      "Epoch 49/3000\n",
      "57/57 [==============================] - 0s 7ms/step - loss: 0.5635 - accuracy: 0.7817 - val_loss: 0.5630 - val_accuracy: 0.7806\n",
      "Epoch 50/3000\n",
      "57/57 [==============================] - 0s 7ms/step - loss: 0.5611 - accuracy: 0.7833 - val_loss: 0.5533 - val_accuracy: 0.7831\n",
      "Epoch 51/3000\n",
      "57/57 [==============================] - 0s 7ms/step - loss: 0.5588 - accuracy: 0.7844 - val_loss: 0.5527 - val_accuracy: 0.7855\n",
      "Epoch 52/3000\n",
      "57/57 [==============================] - 0s 7ms/step - loss: 0.5552 - accuracy: 0.7861 - val_loss: 0.5497 - val_accuracy: 0.7866\n",
      "Epoch 53/3000\n",
      "57/57 [==============================] - 0s 7ms/step - loss: 0.5548 - accuracy: 0.7876 - val_loss: 0.5434 - val_accuracy: 0.7909\n",
      "Epoch 54/3000\n",
      "57/57 [==============================] - 0s 6ms/step - loss: 0.5514 - accuracy: 0.7884 - val_loss: 0.5405 - val_accuracy: 0.7926\n",
      "Epoch 55/3000\n",
      "57/57 [==============================] - 0s 7ms/step - loss: 0.5490 - accuracy: 0.7901 - val_loss: 0.5399 - val_accuracy: 0.7923\n",
      "Epoch 56/3000\n",
      "57/57 [==============================] - 0s 6ms/step - loss: 0.5486 - accuracy: 0.7910 - val_loss: 0.5390 - val_accuracy: 0.7936\n",
      "Epoch 57/3000\n",
      "57/57 [==============================] - 0s 8ms/step - loss: 0.5464 - accuracy: 0.7914 - val_loss: 0.5425 - val_accuracy: 0.7930\n",
      "Epoch 58/3000\n"
     ]
    },
    {
     "name": "stdout",
     "output_type": "stream",
     "text": [
      "57/57 [==============================] - 0s 7ms/step - loss: 0.5458 - accuracy: 0.7927 - val_loss: 0.5430 - val_accuracy: 0.7941\n",
      "Epoch 59/3000\n",
      "57/57 [==============================] - 0s 7ms/step - loss: 0.5449 - accuracy: 0.7932 - val_loss: 0.5400 - val_accuracy: 0.7936\n",
      "Epoch 60/3000\n",
      "57/57 [==============================] - 0s 7ms/step - loss: 0.5432 - accuracy: 0.7934 - val_loss: 0.5333 - val_accuracy: 0.7972\n",
      "Epoch 61/3000\n",
      "57/57 [==============================] - 0s 8ms/step - loss: 0.5422 - accuracy: 0.7942 - val_loss: 0.5338 - val_accuracy: 0.7982\n",
      "Epoch 62/3000\n",
      "57/57 [==============================] - 0s 7ms/step - loss: 0.5405 - accuracy: 0.7951 - val_loss: 0.5333 - val_accuracy: 0.7975\n",
      "Epoch 63/3000\n",
      "57/57 [==============================] - 0s 7ms/step - loss: 0.5398 - accuracy: 0.7959 - val_loss: 0.5346 - val_accuracy: 0.7984\n",
      "Epoch 64/3000\n",
      "57/57 [==============================] - 0s 7ms/step - loss: 0.5391 - accuracy: 0.7963 - val_loss: 0.5284 - val_accuracy: 0.8002\n",
      "Epoch 65/3000\n",
      "57/57 [==============================] - 0s 8ms/step - loss: 0.5376 - accuracy: 0.7968 - val_loss: 0.5297 - val_accuracy: 0.8016\n",
      "Epoch 66/3000\n",
      "57/57 [==============================] - 0s 7ms/step - loss: 0.5374 - accuracy: 0.7974 - val_loss: 0.5263 - val_accuracy: 0.8013\n",
      "Epoch 67/3000\n",
      "57/57 [==============================] - 0s 7ms/step - loss: 0.5359 - accuracy: 0.7981 - val_loss: 0.5268 - val_accuracy: 0.8021\n",
      "Epoch 68/3000\n",
      "57/57 [==============================] - 0s 7ms/step - loss: 0.5361 - accuracy: 0.7985 - val_loss: 0.5288 - val_accuracy: 0.8000\n",
      "Epoch 69/3000\n",
      "57/57 [==============================] - 0s 7ms/step - loss: 0.5354 - accuracy: 0.7982 - val_loss: 0.5305 - val_accuracy: 0.8011\n",
      "Epoch 70/3000\n",
      "57/57 [==============================] - 0s 7ms/step - loss: 0.5343 - accuracy: 0.7990 - val_loss: 0.5321 - val_accuracy: 0.8001\n",
      "Epoch 71/3000\n",
      "57/57 [==============================] - 0s 8ms/step - loss: 0.5340 - accuracy: 0.7993 - val_loss: 0.5260 - val_accuracy: 0.8019\n",
      "Epoch 72/3000\n",
      "57/57 [==============================] - 0s 7ms/step - loss: 0.5337 - accuracy: 0.8000 - val_loss: 0.5225 - val_accuracy: 0.8029\n",
      "Epoch 73/3000\n",
      "57/57 [==============================] - 0s 7ms/step - loss: 0.5319 - accuracy: 0.8005 - val_loss: 0.5259 - val_accuracy: 0.8030\n",
      "Epoch 74/3000\n",
      "57/57 [==============================] - 0s 7ms/step - loss: 0.5325 - accuracy: 0.8001 - val_loss: 0.5207 - val_accuracy: 0.8050\n",
      "Epoch 75/3000\n",
      "57/57 [==============================] - 0s 7ms/step - loss: 0.5312 - accuracy: 0.8011 - val_loss: 0.5167 - val_accuracy: 0.8078\n",
      "Epoch 76/3000\n",
      "57/57 [==============================] - 0s 6ms/step - loss: 0.5304 - accuracy: 0.8016 - val_loss: 0.5245 - val_accuracy: 0.8034\n",
      "Epoch 77/3000\n",
      "57/57 [==============================] - 0s 6ms/step - loss: 0.5303 - accuracy: 0.8019 - val_loss: 0.5185 - val_accuracy: 0.8058\n",
      "Epoch 78/3000\n",
      "57/57 [==============================] - 0s 6ms/step - loss: 0.5297 - accuracy: 0.8022 - val_loss: 0.5241 - val_accuracy: 0.8044\n",
      "Epoch 79/3000\n",
      "57/57 [==============================] - 0s 7ms/step - loss: 0.5285 - accuracy: 0.8022 - val_loss: 0.5197 - val_accuracy: 0.8074\n",
      "Epoch 80/3000\n",
      "57/57 [==============================] - 0s 7ms/step - loss: 0.5290 - accuracy: 0.8027 - val_loss: 0.5212 - val_accuracy: 0.8058\n",
      "Epoch 81/3000\n",
      "57/57 [==============================] - 0s 7ms/step - loss: 0.5275 - accuracy: 0.8032 - val_loss: 0.5213 - val_accuracy: 0.8066\n",
      "Epoch 82/3000\n",
      "57/57 [==============================] - 0s 8ms/step - loss: 0.5271 - accuracy: 0.8036 - val_loss: 0.5168 - val_accuracy: 0.8080\n",
      "Epoch 83/3000\n",
      "57/57 [==============================] - 0s 8ms/step - loss: 0.5262 - accuracy: 0.8039 - val_loss: 0.5169 - val_accuracy: 0.8081\n",
      "Epoch 84/3000\n",
      "57/57 [==============================] - 0s 7ms/step - loss: 0.5253 - accuracy: 0.8048 - val_loss: 0.5198 - val_accuracy: 0.8058\n",
      "Epoch 85/3000\n",
      "57/57 [==============================] - 0s 6ms/step - loss: 0.5259 - accuracy: 0.8040 - val_loss: 0.5170 - val_accuracy: 0.8077\n",
      "Epoch 86/3000\n",
      "57/57 [==============================] - 0s 8ms/step - loss: 0.5256 - accuracy: 0.8043 - val_loss: 0.5210 - val_accuracy: 0.8068\n",
      "Epoch 87/3000\n",
      "57/57 [==============================] - 0s 7ms/step - loss: 0.5251 - accuracy: 0.8047 - val_loss: 0.5192 - val_accuracy: 0.8068\n",
      "Epoch 88/3000\n",
      "57/57 [==============================] - 0s 7ms/step - loss: 0.5249 - accuracy: 0.8047 - val_loss: 0.5237 - val_accuracy: 0.8029\n",
      "Epoch 89/3000\n",
      "57/57 [==============================] - 0s 7ms/step - loss: 0.5244 - accuracy: 0.8047 - val_loss: 0.5138 - val_accuracy: 0.8080\n",
      "Epoch 90/3000\n",
      "57/57 [==============================] - 0s 6ms/step - loss: 0.5243 - accuracy: 0.8052 - val_loss: 0.5143 - val_accuracy: 0.8089\n",
      "Epoch 91/3000\n",
      "57/57 [==============================] - 0s 6ms/step - loss: 0.5241 - accuracy: 0.8050 - val_loss: 0.5223 - val_accuracy: 0.8060\n",
      "Epoch 92/3000\n",
      "57/57 [==============================] - 0s 6ms/step - loss: 0.5235 - accuracy: 0.8056 - val_loss: 0.5107 - val_accuracy: 0.8097\n",
      "Epoch 93/3000\n",
      "57/57 [==============================] - 0s 7ms/step - loss: 0.5229 - accuracy: 0.8062 - val_loss: 0.5111 - val_accuracy: 0.8097\n",
      "Epoch 94/3000\n",
      "57/57 [==============================] - 0s 7ms/step - loss: 0.5223 - accuracy: 0.8056 - val_loss: 0.5205 - val_accuracy: 0.8056\n",
      "Epoch 95/3000\n",
      "57/57 [==============================] - 0s 6ms/step - loss: 0.5218 - accuracy: 0.8063 - val_loss: 0.5090 - val_accuracy: 0.8117\n",
      "Epoch 96/3000\n",
      "57/57 [==============================] - 0s 7ms/step - loss: 0.5220 - accuracy: 0.8063 - val_loss: 0.5089 - val_accuracy: 0.8112\n",
      "Epoch 97/3000\n",
      "57/57 [==============================] - 0s 7ms/step - loss: 0.5216 - accuracy: 0.8065 - val_loss: 0.5134 - val_accuracy: 0.8105\n",
      "Epoch 98/3000\n",
      "57/57 [==============================] - 0s 8ms/step - loss: 0.5219 - accuracy: 0.8066 - val_loss: 0.5163 - val_accuracy: 0.8090\n",
      "Epoch 99/3000\n",
      "57/57 [==============================] - 0s 6ms/step - loss: 0.5211 - accuracy: 0.8067 - val_loss: 0.5156 - val_accuracy: 0.8087\n",
      "Epoch 100/3000\n",
      "57/57 [==============================] - 0s 6ms/step - loss: 0.5209 - accuracy: 0.8072 - val_loss: 0.5182 - val_accuracy: 0.8084\n",
      "Epoch 101/3000\n",
      "57/57 [==============================] - 0s 6ms/step - loss: 0.5203 - accuracy: 0.8074 - val_loss: 0.5154 - val_accuracy: 0.8091\n",
      "Epoch 102/3000\n",
      "57/57 [==============================] - 0s 6ms/step - loss: 0.5207 - accuracy: 0.8072 - val_loss: 0.5146 - val_accuracy: 0.8092\n",
      "Epoch 103/3000\n",
      "57/57 [==============================] - 0s 7ms/step - loss: 0.5206 - accuracy: 0.8073 - val_loss: 0.5123 - val_accuracy: 0.8093\n",
      "Epoch 104/3000\n",
      "57/57 [==============================] - 0s 7ms/step - loss: 0.5195 - accuracy: 0.8078 - val_loss: 0.5090 - val_accuracy: 0.8113\n",
      "Epoch 105/3000\n",
      "57/57 [==============================] - 0s 7ms/step - loss: 0.5210 - accuracy: 0.8074 - val_loss: 0.5171 - val_accuracy: 0.8084\n",
      "Epoch 106/3000\n",
      "57/57 [==============================] - 0s 7ms/step - loss: 0.5195 - accuracy: 0.8078 - val_loss: 0.5125 - val_accuracy: 0.8092\n",
      "Epoch 107/3000\n",
      "57/57 [==============================] - 0s 6ms/step - loss: 0.5190 - accuracy: 0.8079 - val_loss: 0.5113 - val_accuracy: 0.8104\n",
      "Epoch 108/3000\n",
      "57/57 [==============================] - 0s 7ms/step - loss: 0.5189 - accuracy: 0.8082 - val_loss: 0.5127 - val_accuracy: 0.8100\n",
      "Epoch 109/3000\n",
      "57/57 [==============================] - 0s 8ms/step - loss: 0.5185 - accuracy: 0.8083 - val_loss: 0.5100 - val_accuracy: 0.8106\n",
      "Epoch 110/3000\n",
      "57/57 [==============================] - 0s 6ms/step - loss: 0.5180 - accuracy: 0.8085 - val_loss: 0.5048 - val_accuracy: 0.8136\n",
      "Epoch 111/3000\n",
      "57/57 [==============================] - 0s 7ms/step - loss: 0.5187 - accuracy: 0.8082 - val_loss: 0.5147 - val_accuracy: 0.8104\n",
      "Epoch 112/3000\n",
      "57/57 [==============================] - 0s 7ms/step - loss: 0.5178 - accuracy: 0.8093 - val_loss: 0.5085 - val_accuracy: 0.8112\n",
      "Epoch 113/3000\n",
      "57/57 [==============================] - 0s 7ms/step - loss: 0.5184 - accuracy: 0.8081 - val_loss: 0.5039 - val_accuracy: 0.8134\n",
      "Epoch 114/3000\n",
      "57/57 [==============================] - 0s 7ms/step - loss: 0.5174 - accuracy: 0.8089 - val_loss: 0.5126 - val_accuracy: 0.8112\n",
      "Epoch 115/3000\n"
     ]
    },
    {
     "name": "stdout",
     "output_type": "stream",
     "text": [
      "57/57 [==============================] - 0s 6ms/step - loss: 0.5176 - accuracy: 0.8089 - val_loss: 0.5074 - val_accuracy: 0.8126\n",
      "Epoch 116/3000\n",
      "57/57 [==============================] - 0s 7ms/step - loss: 0.5169 - accuracy: 0.8094 - val_loss: 0.5140 - val_accuracy: 0.8074\n",
      "Epoch 117/3000\n",
      "57/57 [==============================] - 0s 7ms/step - loss: 0.5167 - accuracy: 0.8094 - val_loss: 0.5023 - val_accuracy: 0.8156\n",
      "Epoch 118/3000\n",
      "57/57 [==============================] - 0s 7ms/step - loss: 0.5154 - accuracy: 0.8104 - val_loss: 0.5072 - val_accuracy: 0.8119\n",
      "Epoch 119/3000\n",
      "57/57 [==============================] - 0s 7ms/step - loss: 0.5165 - accuracy: 0.8096 - val_loss: 0.5052 - val_accuracy: 0.8131\n",
      "Epoch 120/3000\n",
      "57/57 [==============================] - 0s 6ms/step - loss: 0.5159 - accuracy: 0.8100 - val_loss: 0.5076 - val_accuracy: 0.8117\n",
      "Epoch 121/3000\n",
      "57/57 [==============================] - 0s 7ms/step - loss: 0.5161 - accuracy: 0.8102 - val_loss: 0.5122 - val_accuracy: 0.8102\n",
      "Epoch 122/3000\n",
      "57/57 [==============================] - 0s 7ms/step - loss: 0.5152 - accuracy: 0.8100 - val_loss: 0.5108 - val_accuracy: 0.8102\n",
      "Epoch 123/3000\n",
      "57/57 [==============================] - 0s 7ms/step - loss: 0.5151 - accuracy: 0.8105 - val_loss: 0.5046 - val_accuracy: 0.8141\n",
      "Epoch 124/3000\n",
      "57/57 [==============================] - 0s 7ms/step - loss: 0.5153 - accuracy: 0.8101 - val_loss: 0.5044 - val_accuracy: 0.8127\n",
      "Epoch 125/3000\n",
      "57/57 [==============================] - 0s 7ms/step - loss: 0.5155 - accuracy: 0.8108 - val_loss: 0.5109 - val_accuracy: 0.8100\n",
      "Epoch 126/3000\n",
      "57/57 [==============================] - 0s 7ms/step - loss: 0.5148 - accuracy: 0.8103 - val_loss: 0.5045 - val_accuracy: 0.8136\n",
      "Epoch 127/3000\n",
      "57/57 [==============================] - 0s 7ms/step - loss: 0.5153 - accuracy: 0.8099 - val_loss: 0.5042 - val_accuracy: 0.8143\n",
      "Epoch 128/3000\n",
      "57/57 [==============================] - 0s 6ms/step - loss: 0.5141 - accuracy: 0.8107 - val_loss: 0.5101 - val_accuracy: 0.8109\n",
      "Epoch 129/3000\n",
      "57/57 [==============================] - 0s 6ms/step - loss: 0.5149 - accuracy: 0.8107 - val_loss: 0.5102 - val_accuracy: 0.8096\n",
      "Epoch 130/3000\n",
      "57/57 [==============================] - 0s 6ms/step - loss: 0.5144 - accuracy: 0.8108 - val_loss: 0.5064 - val_accuracy: 0.8136\n",
      "Epoch 131/3000\n",
      "57/57 [==============================] - 0s 8ms/step - loss: 0.5139 - accuracy: 0.8110 - val_loss: 0.5045 - val_accuracy: 0.8132\n",
      "Epoch 132/3000\n",
      "57/57 [==============================] - 0s 7ms/step - loss: 0.5134 - accuracy: 0.8111 - val_loss: 0.5052 - val_accuracy: 0.8128\n",
      "Epoch 133/3000\n",
      "57/57 [==============================] - 0s 7ms/step - loss: 0.5139 - accuracy: 0.8112 - val_loss: 0.5117 - val_accuracy: 0.8111\n",
      "Epoch 134/3000\n",
      "57/57 [==============================] - 0s 7ms/step - loss: 0.5136 - accuracy: 0.8114 - val_loss: 0.5024 - val_accuracy: 0.8153\n",
      "Epoch 135/3000\n",
      "57/57 [==============================] - 0s 7ms/step - loss: 0.5136 - accuracy: 0.8112 - val_loss: 0.5072 - val_accuracy: 0.8133\n",
      "Epoch 136/3000\n",
      "57/57 [==============================] - 0s 7ms/step - loss: 0.5134 - accuracy: 0.8111 - val_loss: 0.5068 - val_accuracy: 0.8116\n",
      "Epoch 137/3000\n",
      "57/57 [==============================] - 0s 7ms/step - loss: 0.5130 - accuracy: 0.8118 - val_loss: 0.5117 - val_accuracy: 0.8108\n"
     ]
    }
   ],
   "source": [
    "# Set the model training parameters\n",
    "# Stop model training when the training loss is not dropped\n",
    "callbacks_list = [callbacks.EarlyStopping(\n",
    "                        monitor='val_loss', \n",
    "                        patience=20, \n",
    "                        verbose=0, \n",
    "                        mode='auto',\n",
    "                        restore_best_weights=True,\n",
    "                    )\n",
    "                            ]\n",
    "\n",
    "# ------------- Starting model Training --------------\n",
    "BATCH_SIZE = 8192\n",
    "EPOCH = 3000\n",
    "\n",
    "if using_weights == True:\n",
    "    w_for_fit = class_weights\n",
    "else:\n",
    "    w_for_fit = None\n",
    "    \n",
    "\n",
    "hist = model.fit(data_train,labels_train, \n",
    "          batch_size = BATCH_SIZE, \n",
    "          epochs = EPOCH, \n",
    "          callbacks= callbacks_list,\n",
    "          validation_split=0.25,\n",
    "          class_weight=w_for_fit)"
   ]
  },
  {
   "cell_type": "code",
   "execution_count": 14,
   "metadata": {},
   "outputs": [
    {
     "name": "stdout",
     "output_type": "stream",
     "text": [
      "Created \"ref_model_9_conv_2filters_20\" directory\n"
     ]
    }
   ],
   "source": [
    "def createDir(path: str):\n",
    "    isExist = os.path.exists(path)\n",
    "    if not isExist:\n",
    "        os.makedirs(path)\n",
    "        print('Created \"' + path + '\" directory')\n",
    "    else:\n",
    "        print('\"'+ path + '\" directory already existed')\n",
    "\n",
    "createDir(save_folder)"
   ]
  },
  {
   "cell_type": "code",
   "execution_count": 15,
   "metadata": {},
   "outputs": [
    {
     "data": {
      "image/png": "[encoded data removed]",
      "text/plain": [
       "<Figure size 640x480 with 1 Axes>"
      ]
     },
     "metadata": {},
     "output_type": "display_data"
    },
    {
     "data": {
      "image/png": "[encoded data removed]",
      "text/plain": [
       "<Figure size 640x480 with 1 Axes>"
      ]
     },
     "metadata": {},
     "output_type": "display_data"
    }
   ],
   "source": [
    "# Show loss curves\n",
    "plt.figure()\n",
    "plt.title('Training loss')\n",
    "plt.plot(hist.epoch, hist.history['loss'], label='train loss')\n",
    "plt.plot(hist.epoch, hist.history['val_loss'], label='val_loss')\n",
    "plt.legend()\n",
    "plt.savefig(save_folder + '/%s Training loss.pdf' %(name), format='pdf')\n",
    "# plt.show()\n",
    "\n",
    "plt.figure()\n",
    "plt.title('Training acc')\n",
    "plt.plot(hist.epoch, hist.history['accuracy'], label='train acc')\n",
    "plt.plot(hist.epoch, hist.history['val_accuracy'], label='val_acc')\n",
    "plt.legend()\n",
    "plt.savefig(save_folder + '/%s Training acc.pdf' %(name), format='pdf')"
   ]
  },
  {
   "cell_type": "code",
   "execution_count": 16,
   "metadata": {},
   "outputs": [
    {
     "name": "stdout",
     "output_type": "stream",
     "text": [
      "4863/4863 [==============================] - 12s 2ms/step - loss: 0.5023 - accuracy: 0.8149\n"
     ]
    }
   ],
   "source": [
    "evalDict = model.evaluate(data_test,labels_test)"
   ]
  },
  {
   "cell_type": "code",
   "execution_count": 17,
   "metadata": {},
   "outputs": [],
   "source": [
    "from keras.utils.layer_utils import count_params\n",
    "test = count_params(model.trainable_weights)\n",
    "\n",
    "cre = open(save_folder + '/' + 'Params_' + str(test), 'x')"
   ]
  },
  {
   "cell_type": "code",
   "execution_count": 18,
   "metadata": {},
   "outputs": [],
   "source": [
    "# Saving dict of history and evaluation result\n",
    "with open(save_folder + '/' + 'histDict', 'wb') as file_pi:\n",
    "    pickle.dump(hist.history, file_pi)\n",
    "\n",
    "with open(save_folder + '/' + 'evalDict' + str(evalDict[1]), 'wb') as file_pi:\n",
    "    pickle.dump(evalDict, file_pi)"
   ]
  },
  {
   "cell_type": "code",
   "execution_count": 19,
   "metadata": {},
   "outputs": [
    {
     "name": "stderr",
     "output_type": "stream",
     "text": [
      "2023-05-18 15:45:11.792216: I tensorflow/core/common_runtime/executor.cc:1197] [/device:CPU:0] (DEBUG INFO) Executor start aborting (this does not indicate an error and you can ignore this message): INVALID_ARGUMENT: You must feed a value for placeholder tensor 'inputs' with dtype float and shape [?,40]\n",
      "\t [[{{node inputs}}]]\n",
      "2023-05-18 15:45:11.799858: I tensorflow/core/common_runtime/executor.cc:1197] [/device:CPU:0] (DEBUG INFO) Executor start aborting (this does not indicate an error and you can ignore this message): INVALID_ARGUMENT: You must feed a value for placeholder tensor 'inputs' with dtype float and shape [?,8]\n",
      "\t [[{{node inputs}}]]\n",
      "WARNING:absl:Function `_wrapped_model` contains input name(s) Input with unsupported characters which will be renamed to input in the SavedModel.\n",
      "2023-05-18 15:45:12.093566: I tensorflow/core/common_runtime/executor.cc:1197] [/device:CPU:0] (DEBUG INFO) Executor start aborting (this does not indicate an error and you can ignore this message): INVALID_ARGUMENT: You must feed a value for placeholder tensor 'inputs' with dtype float and shape [?,40]\n",
      "\t [[{{node inputs}}]]\n",
      "2023-05-18 15:45:12.112655: I tensorflow/core/common_runtime/executor.cc:1197] [/device:CPU:0] (DEBUG INFO) Executor start aborting (this does not indicate an error and you can ignore this message): INVALID_ARGUMENT: You must feed a value for placeholder tensor 'inputs' with dtype float and shape [?,8]\n",
      "\t [[{{node inputs}}]]\n",
      "WARNING:absl:Found untraced functions such as _jit_compiled_convolution_op, _jit_compiled_convolution_op, _jit_compiled_convolution_op, _jit_compiled_convolution_op, _jit_compiled_convolution_op while saving (showing 5 of 9). These functions will not be directly callable after loading.\n"
     ]
    },
    {
     "name": "stdout",
     "output_type": "stream",
     "text": [
      "INFO:tensorflow:Assets written to: ref_model_9_conv_2filters_20/one_channel_test_Model/assets\n"
     ]
    },
    {
     "name": "stderr",
     "output_type": "stream",
     "text": [
      "INFO:tensorflow:Assets written to: ref_model_9_conv_2filters_20/one_channel_test_Model/assets\n"
     ]
    }
   ],
   "source": [
    "#uncomment to save model\n",
    "model.save(save_folder + '/' + name + '_Model')"
   ]
  },
  {
   "cell_type": "code",
   "execution_count": 20,
   "metadata": {},
   "outputs": [
    {
     "name": "stdout",
     "output_type": "stream",
     "text": [
      "4863/4863 [==============================] - 8s 2ms/step\n",
      "               precision    recall  f1-score   support\n",
      "\n",
      "Empty channel       0.83      0.98      0.90     94548\n",
      "        Wi-Fi       0.85      0.62      0.72     29654\n",
      "    Bluetooth       0.69      0.49      0.57     31408\n",
      "\n",
      "     accuracy                           0.81    155610\n",
      "    macro avg       0.79      0.70      0.73    155610\n",
      " weighted avg       0.81      0.81      0.80    155610\n",
      "\n"
     ]
    }
   ],
   "source": [
    "Y_test = np.argmax(labels_test, axis=1) # Convert one-hot to index\n",
    "y_pred = np.argmax(model.predict(data_test),axis=1)\n",
    "class_names = ['Empty channel', 'Wi-Fi', 'Bluetooth']\n",
    "class_report = classification_report(Y_test, y_pred, target_names=class_names)\n",
    "print(class_report)\n",
    "\n",
    "with open(save_folder + '/' + 'classReportString', 'wb') as file_pi:\n",
    "    pickle.dump(class_report, file_pi)"
   ]
  },
  {
   "cell_type": "code",
   "execution_count": 21,
   "metadata": {},
   "outputs": [
    {
     "data": {
      "image/png": "[encoded data removed]",
      "text/plain": [
       "<Figure size 640x480 with 1 Axes>"
      ]
     },
     "metadata": {},
     "output_type": "display_data"
    }
   ],
   "source": [
    "ConfusionMatrixDisplay.from_predictions(Y_test, y_pred, normalize='true',cmap='Greens',colorbar=False, display_labels=class_names)\n",
    "plt.title('Confusion Matrix')\n",
    "plt.savefig(save_folder +'/confusion_matrix_'+ name +'.pdf', format='pdf')"
   ]
  },
  {
   "cell_type": "code",
   "execution_count": 22,
   "metadata": {},
   "outputs": [
    {
     "name": "stdout",
     "output_type": "stream",
     "text": [
      "'float' object has no attribute 'pop'\n",
      "{'Empty channel': {'precision': 0.8335290268802266, 'recall': 0.9835850573253797, 'f1-score': 0.9023612802437451, 'Samples': 94548}, 'Wi-Fi': {'precision': 0.8516569740607404, 'recall': 0.6222432049639172, 'f1-score': 0.7190958690568979, 'Samples': 29654}, 'Bluetooth': {'precision': 0.6865698324022347, 'recall': 0.48911105450840553, 'f1-score': 0.5712585761300039, 'Samples': 31408}, 'accuracy': 0.814921920185078, 'macro avg': {'precision': 0.7905852777810672, 'recall': 0.6983131055992341, 'f1-score': 0.7309052418102157, 'Samples': 155610}, 'weighted avg': {'precision': 0.8073216608081629, 'recall': 0.814921920185078, 'f1-score': 0.8006080109542446, 'Samples': 155610}}\n"
     ]
    }
   ],
   "source": [
    "class_reportDict = classification_report(Y_test, y_pred, output_dict=True, target_names=class_names)\n",
    "for key in class_reportDict:\n",
    "    try:\n",
    "        class_reportDict[key]['Samples'] = class_reportDict[key].pop('support')\n",
    "    except Exception as e:\n",
    "        print(e)\n",
    "print(class_reportDict)\n"
   ]
  },
  {
   "cell_type": "code",
   "execution_count": 23,
   "metadata": {},
   "outputs": [
    {
     "name": "stdout",
     "output_type": "stream",
     "text": [
      "{'Empty channel': {'precision': 0.8335290268802266, 'recall': 0.9835850573253797, 'f1-score': 0.9023612802437451, 'Samples': 94548}, 'Wi-Fi': {'precision': 0.8516569740607404, 'recall': 0.6222432049639172, 'f1-score': 0.7190958690568979, 'Samples': 29654}, 'Bluetooth': {'precision': 0.6865698324022347, 'recall': 0.48911105450840553, 'f1-score': 0.5712585761300039, 'Samples': 31408}, 'macro avg': {'precision': 0.7905852777810672, 'recall': 0.6983131055992341, 'f1-score': 0.7309052418102157, 'Samples': 155610}, 'weighted avg': {'precision': 0.8073216608081629, 'recall': 0.814921920185078, 'f1-score': 0.8006080109542446, 'Samples': 155610}}\n"
     ]
    }
   ],
   "source": [
    "class_reportDict.pop('accuracy')\n",
    "print(class_reportDict)"
   ]
  },
  {
   "cell_type": "code",
   "execution_count": 24,
   "metadata": {},
   "outputs": [],
   "source": [
    "df = pd.DataFrame(class_reportDict).transpose().round(decimals=3)\n",
    "dfi.export(df, save_folder + '/' +name + \"_ClassReport.png\", table_conversion=\"matplotlib\")"
   ]
  },
  {
   "cell_type": "code",
   "execution_count": null,
   "metadata": {},
   "outputs": [],
   "source": []
  }
 ],
 "metadata": {
  "kernelspec": {
   "display_name": "Python 3 (ipykernel)",
   "language": "python",
   "name": "python3"
  },
  "language_info": {
   "codemirror_mode": {
    "name": "ipython",
    "version": 3
   },
   "file_extension": ".py",
   "mimetype": "text/x-python",
   "name": "python",
   "nbconvert_exporter": "python",
   "pygments_lexer": "ipython3",
   "version": "3.8.10"
  },
  "vscode": {
   "interpreter": {
    "hash": "cdb41d0cc79015bdcf6a93996e5168bcca6d7c1b72f3e6d100b9698b1014ae19"
   }
  }
 },
 "nbformat": 4,
 "nbformat_minor": 2
}
