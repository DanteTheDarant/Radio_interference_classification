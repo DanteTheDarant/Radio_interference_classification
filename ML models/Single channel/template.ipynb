{
 "cells": [
  {
   "cell_type": "code",
   "execution_count": 1,
   "metadata": {},
   "outputs": [],
   "source": [
    "import tensorflow as tf\n",
    "from keras.models import Model\n",
    "from keras.optimizers import Adam\n",
    "from keras import layers, callbacks\n",
    "\n",
    "from keras.utils import to_categorical\n",
    "\n",
    "import pandas as pd\n",
    "import matplotlib.pyplot as plt\n",
    "import seaborn as sns \n",
    "import numpy as np\n",
    "\n",
    "from tensorflow.python.keras.utils.vis_utils import plot_model\n",
    "import pydot\n",
    "\n",
    "from scipy.stats import norm\n",
    "from scipy import stats\n",
    "import os\n",
    "\n",
    "from sklearn.model_selection import train_test_split\n",
    "from sklearn import preprocessing\n",
    "from sklearn.metrics import classification_report, ConfusionMatrixDisplay\n",
    "import pickle\n",
    "import dataframe_image as dfi"
   ]
  },
  {
   "cell_type": "markdown",
   "metadata": {},
   "source": [
    "#### Save parameters"
   ]
  },
  {
   "cell_type": "code",
   "execution_count": 2,
   "metadata": {},
   "outputs": [],
   "source": [
    "time_data_amount = 18\n",
    "nr_classes = 3\n",
    "\n",
    "using_weights = False"
   ]
  },
  {
   "cell_type": "code",
   "execution_count": 3,
   "metadata": {},
   "outputs": [],
   "source": [
    "name = 'one_channel_test' #name of model - should be descriptive\n",
    "save_folder = 'template_' + str(time_data_amount) #hyperparameter description her\n",
    "if using_weights == True:\n",
    "    save_folder = save_folder + '_W'\n",
    "    name = name + '_weighted'"
   ]
  },
  {
   "cell_type": "markdown",
   "metadata": {},
   "source": [
    "### Gotta load in some data"
   ]
  },
  {
   "cell_type": "code",
   "execution_count": 4,
   "metadata": {},
   "outputs": [],
   "source": [
    "datapath = '../../../All generated data/'\n",
    "labelpath = '../../../All generated labels/'\n",
    "data_list = os.listdir(datapath)\n",
    "#print(data_list)\n",
    "\n",
    "#all_data = [] #if we want to have data and labels in one list\n",
    "all_datapoints = []\n",
    "all_labels = []\n",
    "\n",
    "total_channels = 79\n",
    "total_scans_pr_sample = 20\n",
    "classes = 3\n",
    "\n",
    "\n",
    "for csv_file in data_list:\n",
    "    data_file = datapath + csv_file\n",
    "    current_data_file = pd.read_csv(data_file,header=None)\n",
    "\n",
    "    label_file = labelpath + csv_file\n",
    "    label_file = label_file.replace('.csv', '_labels.csv')\n",
    "    current_label_file = pd.read_csv(label_file,header=None)\n",
    "\n",
    "    for data_iter in range(len(current_data_file.index)):\n",
    "        #Pulling out the data from a row and putting it in the list\n",
    "        current_data_point = np.array(current_data_file.iloc[data_iter])\n",
    "        current_data_point = current_data_point.reshape(total_scans_pr_sample,total_channels)\n",
    "        all_datapoints.append(current_data_point)\n",
    "        \n",
    "        #adding the label to the datamatrix as the last row\n",
    "        label_row = np.array(current_label_file.iloc[data_iter])\n",
    "        label_row = label_row.reshape(1,total_channels)\n",
    "        all_labels.append(label_row)\n",
    "        \n",
    "        #all_data.append(np.vstack([current_data_point, label_row])) #if we want to have data and labels in one list\n"
   ]
  },
  {
   "cell_type": "code",
   "execution_count": 5,
   "metadata": {},
   "outputs": [
    {
     "name": "stdout",
     "output_type": "stream",
     "text": [
      "(1, 79)\n",
      "10981\n",
      "10981\n"
     ]
    }
   ],
   "source": [
    "print(all_labels[1].shape)\n",
    "print(len(all_labels))\n",
    "print(len(all_datapoints))"
   ]
  },
  {
   "cell_type": "markdown",
   "metadata": {},
   "source": [
    "#### Pick out one channel for each sample\n",
    "For now it takes the same channel for all samples"
   ]
  },
  {
   "cell_type": "code",
   "execution_count": 6,
   "metadata": {},
   "outputs": [
    {
     "name": "stdout",
     "output_type": "stream",
     "text": [
      "(18,)\n",
      "285506\n",
      "(1,)\n",
      "285506\n"
     ]
    }
   ],
   "source": [
    "chosen_channels = list(range(1,78,3))\n",
    "\n",
    "complete_data = []\n",
    "complete_labels = []\n",
    "\n",
    "for iter in range(len(all_datapoints)):\n",
    "    for channel in chosen_channels:\n",
    "        complete_data.append(all_datapoints[iter][0:time_data_amount,channel])\n",
    "        complete_labels.append(all_labels[iter][:,channel])\n",
    "    \n",
    "\n",
    "#quick check to make sure it works\n",
    "print(complete_data[1].shape)\n",
    "print(len(complete_data))\n",
    "print(complete_labels[1].shape)\n",
    "print(len(complete_labels))"
   ]
  },
  {
   "cell_type": "markdown",
   "metadata": {},
   "source": [
    "### Splits data in train and test"
   ]
  },
  {
   "cell_type": "code",
   "execution_count": 7,
   "metadata": {},
   "outputs": [
    {
     "name": "stdout",
     "output_type": "stream",
     "text": [
      "(57102, 3)\n"
     ]
    }
   ],
   "source": [
    "data_train, data_test, labels_train, labels_test = train_test_split(complete_data, complete_labels, train_size=0.8, random_state=112)\n",
    "\n",
    "# One hot encoding\n",
    "labels_test = to_categorical(labels_test)\n",
    "labels_train = to_categorical(labels_train)\n",
    "\n",
    "data_train = np.array(data_train)\n",
    "data_test = np.array(data_test)\n",
    "labels_train = np.array(labels_train)\n",
    "labels_test = np.array(labels_test)\n",
    "print(labels_test.shape)"
   ]
  },
  {
   "cell_type": "markdown",
   "metadata": {},
   "source": [
    "### Normalise data a bit"
   ]
  },
  {
   "cell_type": "code",
   "execution_count": 8,
   "metadata": {},
   "outputs": [],
   "source": [
    "# Make a scaler from training data\n",
    "scaler = preprocessing.StandardScaler().fit(data_train)\n",
    "\n",
    "# scale everything using that scaler\n",
    "data_train = scaler.transform(data_train)\n",
    "data_test = scaler.transform(data_test)"
   ]
  },
  {
   "attachments": {},
   "cell_type": "markdown",
   "metadata": {},
   "source": [
    "### Stuff for class weights"
   ]
  },
  {
   "cell_type": "code",
   "execution_count": 9,
   "metadata": {},
   "outputs": [],
   "source": [
    "def generate_class_weights(class_series, multi_class=True, one_hot_encoded=False):\n",
    "  \"\"\"\n",
    "  Method to generate class weights given a set of multi-class or multi-label labels, both one-hot-encoded or not.\n",
    "  Some examples of different formats of class_series and their outputs are:\n",
    "    - generate_class_weights(['mango', 'lemon', 'banana', 'mango'], multi_class=True, one_hot_encoded=False)\n",
    "    {'banana': 1.3333333333333333, 'lemon': 1.3333333333333333, 'mango': 0.6666666666666666}\n",
    "    - generate_class_weights([[1, 0, 0], [0, 1, 0], [0, 0, 1], [1, 0, 0]], multi_class=True, one_hot_encoded=True)\n",
    "    {0: 0.6666666666666666, 1: 1.3333333333333333, 2: 1.3333333333333333}\n",
    "    - generate_class_weights([['mango', 'lemon'], ['mango'], ['lemon', 'banana'], ['lemon']], multi_class=False, one_hot_encoded=False)\n",
    "    {'banana': 1.3333333333333333, 'lemon': 0.4444444444444444, 'mango': 0.6666666666666666}\n",
    "    - generate_class_weights([[0, 1, 1], [0, 0, 1], [1, 1, 0], [0, 1, 0]], multi_class=False, one_hot_encoded=True)\n",
    "    {0: 1.3333333333333333, 1: 0.4444444444444444, 2: 0.6666666666666666}\n",
    "  The output is a dictionary in the format { class_label: class_weight }. In case the input is one hot encoded, the class_label would be index\n",
    "  of appareance of the label when the dataset was processed. \n",
    "  In multi_class this is np.unique(class_series) and in multi-label np.unique(np.concatenate(class_series)).\n",
    "  Author: Angel Igareta (angel@igareta.com)\n",
    "  \"\"\"\n",
    "  if multi_class:\n",
    "    # If class is one hot encoded, transform to categorical labels to use compute_class_weight   \n",
    "    if one_hot_encoded:\n",
    "      class_series = np.argmax(class_series, axis=1)\n",
    "  \n",
    "    # Compute class weights with sklearn method\n",
    "    class_labels = np.unique(class_series)\n",
    "    class_weights = compute_class_weight(class_weight='balanced', classes=class_labels, y=class_series)\n",
    "    return dict(zip(class_labels, class_weights))\n",
    "  else:\n",
    "    # It is neccessary that the multi-label values are one-hot encoded\n",
    "    mlb = None\n",
    "    if not one_hot_encoded:\n",
    "      mlb = MultiLabelBinarizer()\n",
    "      class_series = mlb.fit_transform(class_series)\n",
    "\n",
    "    n_samples = len(class_series)\n",
    "    n_classes = len(class_series[0])\n",
    "\n",
    "    # Count each class frequency\n",
    "    class_count = [0] * n_classes\n",
    "    for classes in class_series:\n",
    "        for index in range(n_classes):\n",
    "            if classes[index] != 0:\n",
    "                class_count[index] += 1\n",
    "    \n",
    "    # Compute class weights using balanced method\n",
    "    class_weights = [n_samples / (n_classes * freq) if freq > 0 else 1 for freq in class_count]\n",
    "    class_labels = range(len(class_weights)) if mlb is None else mlb.classes_\n",
    "    return dict(zip(class_labels, class_weights))"
   ]
  },
  {
   "cell_type": "code",
   "execution_count": 10,
   "metadata": {},
   "outputs": [],
   "source": [
    "class_weights = generate_class_weights(labels_train, multi_class=False, one_hot_encoded=True)"
   ]
  },
  {
   "cell_type": "markdown",
   "metadata": {},
   "source": [
    "## Building a model"
   ]
  },
  {
   "cell_type": "code",
   "execution_count": 11,
   "metadata": {},
   "outputs": [
    {
     "name": "stdout",
     "output_type": "stream",
     "text": [
      "Model: \"model\"\n",
      "_________________________________________________________________\n",
      " Layer (type)                Output Shape              Param #   \n",
      "=================================================================\n",
      " Input (InputLayer)          [(None, 18, 1)]           0         \n",
      "                                                                 \n",
      " conv1d (Conv1D)             (None, 18, 16)            112       \n",
      "                                                                 \n",
      " conv1d_1 (Conv1D)           (None, 16, 16)            784       \n",
      "                                                                 \n",
      " flatten (Flatten)           (None, 256)               0         \n",
      "                                                                 \n",
      " dropout (Dropout)           (None, 256)               0         \n",
      "                                                                 \n",
      " dense (Dense)               (None, 32)                8224      \n",
      "                                                                 \n",
      " dropout_1 (Dropout)         (None, 32)                0         \n",
      "                                                                 \n",
      " dense_1 (Dense)             (None, 16)                528       \n",
      "                                                                 \n",
      " p (Dense)                   (None, 3)                 51        \n",
      "                                                                 \n",
      "=================================================================\n",
      "Total params: 9,699\n",
      "Trainable params: 9,699\n",
      "Non-trainable params: 0\n",
      "_________________________________________________________________\n"
     ]
    }
   ],
   "source": [
    "signal_size = time_data_amount\n",
    "\n",
    "y = layers.Input(shape=(signal_size,1), dtype='float32', name='Input')\n",
    "\n",
    "x = layers.Conv1D(16, 6, padding='same', activation='relu', use_bias=True)(y)\n",
    "#x = layers.Dropout(rate=0.1)(x)\n",
    "\n",
    "x = layers.Conv1D(16, 3, padding='valid', activation='relu')(x)\n",
    "\n",
    "'''\n",
    "x = layers.MaxPool1D(pool_size=3,strides=1)(x)\n",
    "#x = layers.Dropout(rate=0.1)(x)\n",
    "\n",
    "x = layers.Dropout(rate=0.1)(x)\n",
    "x = layers.Conv1D(12, 3, padding='same', activation='relu')(x)\n",
    "x = layers.Dropout(rate=0.1)(x)\n",
    "x = layers.Conv1D(12, 3, padding='same', activation='relu')(x)\n",
    "x = layers.MaxPool1D(pool_size=3,strides=1)(x)\n",
    "'''\n",
    "x = layers.Flatten()(x)\n",
    "x = layers.Dropout(rate=0.05)(x)\n",
    "x = layers.Dense(32, activation='relu')(x)\n",
    "x = layers.Dropout(rate=0.2)(x)\n",
    "x = layers.Dense(16,activation='relu')(x)\n",
    "p = layers.Dense(classes, activation='softmax', name='p')(x)\n",
    "\n",
    "model = Model(inputs=[y], outputs=[p])\n",
    "model.summary()"
   ]
  },
  {
   "cell_type": "code",
   "execution_count": 12,
   "metadata": {},
   "outputs": [],
   "source": [
    "# ------------- model compilation --------------\n",
    "ourAdam = Adam()\n",
    "model.compile(optimizer=ourAdam, loss='categorical_crossentropy', metrics=['accuracy'])"
   ]
  },
  {
   "cell_type": "code",
   "execution_count": 13,
   "metadata": {},
   "outputs": [
    {
     "name": "stdout",
     "output_type": "stream",
     "text": [
      "Epoch 1/50\n",
      "335/335 [==============================] - 5s 11ms/step - loss: 0.6853 - accuracy: 0.7276 - val_loss: 0.5994 - val_accuracy: 0.7595\n",
      "Epoch 2/50\n",
      "335/335 [==============================] - 2s 6ms/step - loss: 0.5877 - accuracy: 0.7681 - val_loss: 0.5602 - val_accuracy: 0.7821\n",
      "Epoch 3/50\n",
      "335/335 [==============================] - 2s 6ms/step - loss: 0.5624 - accuracy: 0.7833 - val_loss: 0.5356 - val_accuracy: 0.7980\n",
      "Epoch 4/50\n",
      "335/335 [==============================] - 2s 5ms/step - loss: 0.5334 - accuracy: 0.8021 - val_loss: 0.5099 - val_accuracy: 0.8157\n",
      "Epoch 5/50\n",
      "335/335 [==============================] - 1s 4ms/step - loss: 0.5156 - accuracy: 0.8134 - val_loss: 0.4953 - val_accuracy: 0.8213\n",
      "Epoch 6/50\n",
      "335/335 [==============================] - 2s 5ms/step - loss: 0.5075 - accuracy: 0.8178 - val_loss: 0.4922 - val_accuracy: 0.8211\n",
      "Epoch 7/50\n",
      "335/335 [==============================] - 1s 4ms/step - loss: 0.5018 - accuracy: 0.8200 - val_loss: 0.4870 - val_accuracy: 0.8264\n",
      "Epoch 8/50\n",
      "335/335 [==============================] - 1s 4ms/step - loss: 0.4968 - accuracy: 0.8233 - val_loss: 0.4834 - val_accuracy: 0.8264\n",
      "Epoch 9/50\n",
      "335/335 [==============================] - 1s 4ms/step - loss: 0.4925 - accuracy: 0.8238 - val_loss: 0.4821 - val_accuracy: 0.8284\n",
      "Epoch 10/50\n",
      "335/335 [==============================] - 1s 4ms/step - loss: 0.4899 - accuracy: 0.8253 - val_loss: 0.4820 - val_accuracy: 0.8284\n",
      "Epoch 11/50\n",
      "335/335 [==============================] - 1s 4ms/step - loss: 0.4870 - accuracy: 0.8265 - val_loss: 0.4775 - val_accuracy: 0.8298\n",
      "Epoch 12/50\n",
      "335/335 [==============================] - 1s 4ms/step - loss: 0.4835 - accuracy: 0.8286 - val_loss: 0.4675 - val_accuracy: 0.8328\n",
      "Epoch 13/50\n",
      "335/335 [==============================] - 1s 4ms/step - loss: 0.4808 - accuracy: 0.8293 - val_loss: 0.4692 - val_accuracy: 0.8349\n",
      "Epoch 14/50\n",
      "335/335 [==============================] - 1s 4ms/step - loss: 0.4784 - accuracy: 0.8299 - val_loss: 0.4687 - val_accuracy: 0.8336\n",
      "Epoch 15/50\n",
      "335/335 [==============================] - 2s 6ms/step - loss: 0.4755 - accuracy: 0.8318 - val_loss: 0.4655 - val_accuracy: 0.8335\n",
      "Epoch 16/50\n",
      "335/335 [==============================] - 2s 6ms/step - loss: 0.4755 - accuracy: 0.8317 - val_loss: 0.4600 - val_accuracy: 0.8362\n",
      "Epoch 17/50\n",
      "335/335 [==============================] - 2s 5ms/step - loss: 0.4723 - accuracy: 0.8327 - val_loss: 0.4582 - val_accuracy: 0.8378\n",
      "Epoch 18/50\n",
      "335/335 [==============================] - 2s 5ms/step - loss: 0.4716 - accuracy: 0.8333 - val_loss: 0.4595 - val_accuracy: 0.8364\n",
      "Epoch 19/50\n",
      "335/335 [==============================] - 2s 5ms/step - loss: 0.4692 - accuracy: 0.8341 - val_loss: 0.4571 - val_accuracy: 0.8383\n",
      "Epoch 20/50\n",
      "335/335 [==============================] - 2s 5ms/step - loss: 0.4685 - accuracy: 0.8343 - val_loss: 0.4542 - val_accuracy: 0.8386\n",
      "Epoch 21/50\n",
      "335/335 [==============================] - 2s 5ms/step - loss: 0.4660 - accuracy: 0.8352 - val_loss: 0.4576 - val_accuracy: 0.8371\n",
      "Epoch 22/50\n",
      "335/335 [==============================] - 1s 4ms/step - loss: 0.4668 - accuracy: 0.8344 - val_loss: 0.4547 - val_accuracy: 0.8389\n",
      "Epoch 23/50\n",
      "335/335 [==============================] - 1s 4ms/step - loss: 0.4643 - accuracy: 0.8365 - val_loss: 0.4548 - val_accuracy: 0.8387\n",
      "Epoch 24/50\n",
      "335/335 [==============================] - 1s 4ms/step - loss: 0.4639 - accuracy: 0.8362 - val_loss: 0.4565 - val_accuracy: 0.8370\n",
      "Epoch 25/50\n",
      "335/335 [==============================] - 1s 4ms/step - loss: 0.4627 - accuracy: 0.8372 - val_loss: 0.4536 - val_accuracy: 0.8399\n",
      "Epoch 26/50\n",
      "335/335 [==============================] - 1s 4ms/step - loss: 0.4630 - accuracy: 0.8363 - val_loss: 0.4547 - val_accuracy: 0.8381\n",
      "Epoch 27/50\n",
      "335/335 [==============================] - 2s 4ms/step - loss: 0.4610 - accuracy: 0.8373 - val_loss: 0.4547 - val_accuracy: 0.8375\n",
      "Epoch 28/50\n",
      "335/335 [==============================] - 1s 4ms/step - loss: 0.4603 - accuracy: 0.8372 - val_loss: 0.4504 - val_accuracy: 0.8401\n",
      "Epoch 29/50\n",
      "335/335 [==============================] - 2s 5ms/step - loss: 0.4595 - accuracy: 0.8380 - val_loss: 0.4532 - val_accuracy: 0.8394\n",
      "Epoch 30/50\n",
      "335/335 [==============================] - 2s 5ms/step - loss: 0.4581 - accuracy: 0.8381 - val_loss: 0.4523 - val_accuracy: 0.8403\n",
      "Epoch 31/50\n",
      "335/335 [==============================] - 1s 4ms/step - loss: 0.4586 - accuracy: 0.8373 - val_loss: 0.4482 - val_accuracy: 0.8417\n",
      "Epoch 32/50\n",
      "335/335 [==============================] - 2s 5ms/step - loss: 0.4572 - accuracy: 0.8389 - val_loss: 0.4471 - val_accuracy: 0.8420\n",
      "Epoch 33/50\n",
      "335/335 [==============================] - 2s 5ms/step - loss: 0.4566 - accuracy: 0.8388 - val_loss: 0.4497 - val_accuracy: 0.8402\n",
      "Epoch 34/50\n",
      "335/335 [==============================] - 2s 5ms/step - loss: 0.4562 - accuracy: 0.8390 - val_loss: 0.4483 - val_accuracy: 0.8408\n",
      "Epoch 35/50\n",
      "335/335 [==============================] - 2s 5ms/step - loss: 0.4557 - accuracy: 0.8387 - val_loss: 0.4479 - val_accuracy: 0.8410\n",
      "Epoch 36/50\n",
      "335/335 [==============================] - 2s 5ms/step - loss: 0.4541 - accuracy: 0.8394 - val_loss: 0.4484 - val_accuracy: 0.8405\n",
      "Epoch 37/50\n",
      "335/335 [==============================] - 2s 5ms/step - loss: 0.4553 - accuracy: 0.8388 - val_loss: 0.4475 - val_accuracy: 0.8410\n",
      "Epoch 38/50\n",
      "335/335 [==============================] - 2s 5ms/step - loss: 0.4529 - accuracy: 0.8402 - val_loss: 0.4464 - val_accuracy: 0.8418\n",
      "Epoch 39/50\n",
      "335/335 [==============================] - 2s 5ms/step - loss: 0.4536 - accuracy: 0.8400 - val_loss: 0.4451 - val_accuracy: 0.8431\n",
      "Epoch 40/50\n",
      "335/335 [==============================] - 2s 5ms/step - loss: 0.4520 - accuracy: 0.8407 - val_loss: 0.4474 - val_accuracy: 0.8427\n",
      "Epoch 41/50\n",
      "335/335 [==============================] - 2s 5ms/step - loss: 0.4525 - accuracy: 0.8404 - val_loss: 0.4470 - val_accuracy: 0.8414\n",
      "Epoch 42/50\n",
      "335/335 [==============================] - 1s 4ms/step - loss: 0.4508 - accuracy: 0.8415 - val_loss: 0.4443 - val_accuracy: 0.8425\n",
      "Epoch 43/50\n",
      "335/335 [==============================] - 1s 4ms/step - loss: 0.4503 - accuracy: 0.8414 - val_loss: 0.4436 - val_accuracy: 0.8436\n",
      "Epoch 44/50\n",
      "335/335 [==============================] - 2s 5ms/step - loss: 0.4502 - accuracy: 0.8408 - val_loss: 0.4462 - val_accuracy: 0.8422\n",
      "Epoch 45/50\n",
      "335/335 [==============================] - 2s 5ms/step - loss: 0.4492 - accuracy: 0.8420 - val_loss: 0.4439 - val_accuracy: 0.8432\n",
      "Epoch 46/50\n",
      "335/335 [==============================] - 2s 5ms/step - loss: 0.4496 - accuracy: 0.8419 - val_loss: 0.4560 - val_accuracy: 0.8363\n",
      "Epoch 47/50\n",
      "335/335 [==============================] - 2s 5ms/step - loss: 0.4486 - accuracy: 0.8421 - val_loss: 0.4438 - val_accuracy: 0.8433\n",
      "Epoch 48/50\n",
      "335/335 [==============================] - 2s 5ms/step - loss: 0.4490 - accuracy: 0.8419 - val_loss: 0.4452 - val_accuracy: 0.8417\n",
      "Epoch 49/50\n",
      "335/335 [==============================] - 1s 4ms/step - loss: 0.4489 - accuracy: 0.8421 - val_loss: 0.4470 - val_accuracy: 0.8418\n",
      "Epoch 50/50\n",
      "335/335 [==============================] - 2s 5ms/step - loss: 0.4487 - accuracy: 0.8418 - val_loss: 0.4427 - val_accuracy: 0.8440\n"
     ]
    }
   ],
   "source": [
    "# Set the model training parameters\n",
    "# Stop model training when the training loss is not dropped\n",
    "callbacks_list = [callbacks.EarlyStopping(\n",
    "                        monitor='val_loss', \n",
    "                        patience=20, \n",
    "                        verbose=0, \n",
    "                        mode='auto',\n",
    "                        restore_best_weights=True,\n",
    "                    )\n",
    "                            ]\n",
    "\n",
    "# ------------- Starting model Training --------------\n",
    "BATCH_SIZE = 512\n",
    "EPOCH = 50\n",
    "\n",
    "if using_weights == True:\n",
    "    w_for_fit = class_weights\n",
    "else:\n",
    "    w_for_fit = None\n",
    "    \n",
    "\n",
    "hist = model.fit(data_train,labels_train, \n",
    "          batch_size = BATCH_SIZE, \n",
    "          epochs = EPOCH, \n",
    "          callbacks= callbacks_list,\n",
    "          validation_split=0.25,\n",
    "          class_weight=w_for_fit)"
   ]
  },
  {
   "cell_type": "code",
   "execution_count": 14,
   "metadata": {},
   "outputs": [
    {
     "name": "stdout",
     "output_type": "stream",
     "text": [
      "Created \"template_18\" directory\n"
     ]
    }
   ],
   "source": [
    "def createDir(path: str):\n",
    "    isExist = os.path.exists(path)\n",
    "    if not isExist:\n",
    "        os.makedirs(path)\n",
    "        print('Created \"' + path + '\" directory')\n",
    "    else:\n",
    "        print('\"'+ path + '\" directory already existed')\n",
    "\n",
    "createDir(save_folder)"
   ]
  },
  {
   "cell_type": "code",
   "execution_count": 15,
   "metadata": {},
   "outputs": [
    {
     "data": {
      "image/png": "[encoded data removed]",
      "text/plain": [
       "<Figure size 640x480 with 1 Axes>"
      ]
     },
     "metadata": {},
     "output_type": "display_data"
    },
    {
     "data": {
      "image/png": "[encoded data removed]",
      "text/plain": [
       "<Figure size 640x480 with 1 Axes>"
      ]
     },
     "metadata": {},
     "output_type": "display_data"
    }
   ],
   "source": [
    "# Show loss curves\n",
    "plt.figure()\n",
    "plt.title('Training loss')\n",
    "plt.plot(hist.epoch, hist.history['loss'], label='train loss')\n",
    "plt.plot(hist.epoch, hist.history['val_loss'], label='val_loss')\n",
    "plt.legend()\n",
    "plt.savefig(save_folder + '/%s Training loss.pdf' %(name), format='pdf')\n",
    "# plt.show()\n",
    "\n",
    "plt.figure()\n",
    "plt.title('Training acc')\n",
    "plt.plot(hist.epoch, hist.history['accuracy'], label='train acc')\n",
    "plt.plot(hist.epoch, hist.history['val_accuracy'], label='val_acc')\n",
    "plt.legend()\n",
    "plt.savefig(save_folder + '/%s Training acc.pdf' %(name), format='pdf')"
   ]
  },
  {
   "cell_type": "code",
   "execution_count": 16,
   "metadata": {},
   "outputs": [
    {
     "name": "stdout",
     "output_type": "stream",
     "text": [
      "1785/1785 [==============================] - 2s 1ms/step - loss: 0.4422 - accuracy: 0.8452\n"
     ]
    }
   ],
   "source": [
    "evalDict = model.evaluate(data_test,labels_test)"
   ]
  },
  {
   "cell_type": "code",
   "execution_count": 17,
   "metadata": {},
   "outputs": [],
   "source": [
    "# Saving dict of history and evaluation result\n",
    "with open(save_folder + '/' + 'histDict', 'wb') as file_pi:\n",
    "    pickle.dump(hist.history, file_pi)\n",
    "\n",
    "with open(save_folder + '/' + 'evalDict' + str(evalDict[1]), 'wb') as file_pi:\n",
    "    pickle.dump(evalDict, file_pi)"
   ]
  },
  {
   "cell_type": "code",
   "execution_count": 18,
   "metadata": {},
   "outputs": [
    {
     "name": "stderr",
     "output_type": "stream",
     "text": [
      "WARNING:absl:Function `_wrapped_model` contains input name(s) Input with unsupported characters which will be renamed to input in the SavedModel.\n",
      "WARNING:absl:Found untraced functions such as _jit_compiled_convolution_op, _jit_compiled_convolution_op while saving (showing 2 of 2). These functions will not be directly callable after loading.\n"
     ]
    },
    {
     "name": "stdout",
     "output_type": "stream",
     "text": [
      "INFO:tensorflow:Assets written to: template_18/one_channel_test_Model\\assets\n"
     ]
    },
    {
     "name": "stderr",
     "output_type": "stream",
     "text": [
      "INFO:tensorflow:Assets written to: template_18/one_channel_test_Model\\assets\n"
     ]
    }
   ],
   "source": [
    "#uncomment to save model\n",
    "model.save(save_folder + '/' + name + '_Model')"
   ]
  },
  {
   "cell_type": "code",
   "execution_count": 19,
   "metadata": {},
   "outputs": [
    {
     "name": "stdout",
     "output_type": "stream",
     "text": [
      "1785/1785 [==============================] - 2s 1ms/step\n",
      "               precision    recall  f1-score   support\n",
      "\n",
      "Empty channel       0.86      0.97      0.92     35216\n",
      "        Wi-Fi       0.85      0.72      0.78     11398\n",
      "    Bluetooth       0.74      0.55      0.63     10488\n",
      "\n",
      "     accuracy                           0.85     57102\n",
      "    macro avg       0.82      0.75      0.78     57102\n",
      " weighted avg       0.84      0.85      0.84     57102\n",
      "\n"
     ]
    }
   ],
   "source": [
    "Y_test = np.argmax(labels_test, axis=1) # Convert one-hot to index\n",
    "y_pred = np.argmax(model.predict(data_test),axis=1)\n",
    "class_names = ['Empty channel', 'Wi-Fi', 'Bluetooth']\n",
    "class_report = classification_report(Y_test, y_pred, target_names=class_names)\n",
    "print(class_report)\n",
    "\n",
    "with open(save_folder + '/' + 'classReportString', 'wb') as file_pi:\n",
    "    pickle.dump(class_report, file_pi)"
   ]
  },
  {
   "cell_type": "code",
   "execution_count": 20,
   "metadata": {},
   "outputs": [
    {
     "data": {
      "image/png": "[encoded data removed]",
      "text/plain": [
       "<Figure size 640x480 with 1 Axes>"
      ]
     },
     "metadata": {},
     "output_type": "display_data"
    }
   ],
   "source": [
    "ConfusionMatrixDisplay.from_predictions(Y_test, y_pred, normalize='true',cmap='Greens',colorbar=False, display_labels=class_names)\n",
    "plt.title('Confusion Matrix')\n",
    "plt.savefig(save_folder +'/confusion_matrix_'+ name +'.pdf', format='pdf')"
   ]
  },
  {
   "cell_type": "code",
   "execution_count": 24,
   "metadata": {},
   "outputs": [
    {
     "name": "stdout",
     "output_type": "stream",
     "text": [
      "'float' object has no attribute 'pop'\n",
      "{'Empty channel': {'precision': 0.8647596907060191, 'recall': 0.9717741935483871, 'f1-score': 0.9151490841021527, 'Samples': 35216}, 'Wi-Fi': {'precision': 0.8468874987180802, 'recall': 0.7245130724688542, 'f1-score': 0.7809352688070359, 'Samples': 11398}, 'Bluetooth': {'precision': 0.7438601002957439, 'recall': 0.5515827612509535, 'f1-score': 0.6334519572953736, 'Samples': 10488}, 'accuracy': 0.8452418479212637, 'macro avg': {'precision': 0.8185024299066144, 'recall': 0.7492900090893984, 'f1-score': 0.7765121034015207, 'Samples': 57102}, 'weighted avg': {'precision': 0.8389864752581977, 'recall': 0.8452418479212637, 'f1-score': 0.8366192859745347, 'Samples': 57102}}\n"
     ]
    }
   ],
   "source": [
    "class_reportDict = classification_report(Y_test, y_pred, output_dict=True, target_names=class_names)\n",
    "for key in class_reportDict:\n",
    "    try:\n",
    "        class_reportDict[key]['Samples'] = class_reportDict[key].pop('support')\n",
    "    except Exception as e:\n",
    "        print(e)\n",
    "print(class_reportDict)\n"
   ]
  },
  {
   "cell_type": "code",
   "execution_count": 25,
   "metadata": {},
   "outputs": [
    {
     "name": "stdout",
     "output_type": "stream",
     "text": [
      "{'Empty channel': {'precision': 0.8647596907060191, 'recall': 0.9717741935483871, 'f1-score': 0.9151490841021527, 'Samples': 35216}, 'Wi-Fi': {'precision': 0.8468874987180802, 'recall': 0.7245130724688542, 'f1-score': 0.7809352688070359, 'Samples': 11398}, 'Bluetooth': {'precision': 0.7438601002957439, 'recall': 0.5515827612509535, 'f1-score': 0.6334519572953736, 'Samples': 10488}, 'macro avg': {'precision': 0.8185024299066144, 'recall': 0.7492900090893984, 'f1-score': 0.7765121034015207, 'Samples': 57102}, 'weighted avg': {'precision': 0.8389864752581977, 'recall': 0.8452418479212637, 'f1-score': 0.8366192859745347, 'Samples': 57102}}\n"
     ]
    }
   ],
   "source": [
    "class_reportDict.pop('accuracy')\n",
    "print(class_reportDict)"
   ]
  },
  {
   "cell_type": "code",
   "execution_count": 28,
   "metadata": {},
   "outputs": [],
   "source": [
    "df = pd.DataFrame(class_reportDict).transpose().round(decimals=3)\n",
    "dfi.export(df, save_folder + '/' +name + \"_ClassReport.png\", table_conversion=\"matplotlib\")"
   ]
  },
  {
   "cell_type": "code",
   "execution_count": null,
   "metadata": {},
   "outputs": [],
   "source": []
  }
 ],
 "metadata": {
  "kernelspec": {
   "display_name": "Python 3 (ipykernel)",
   "language": "python",
   "name": "python3"
  },
  "language_info": {
   "codemirror_mode": {
    "name": "ipython",
    "version": 3
   },
   "file_extension": ".py",
   "mimetype": "text/x-python",
   "name": "python",
   "nbconvert_exporter": "python",
   "pygments_lexer": "ipython3",
   "version": "3.10.9"
  },
  "vscode": {
   "interpreter": {
    "hash": "cdb41d0cc79015bdcf6a93996e5168bcca6d7c1b72f3e6d100b9698b1014ae19"
   }
  }
 },
 "nbformat": 4,
 "nbformat_minor": 2
}
